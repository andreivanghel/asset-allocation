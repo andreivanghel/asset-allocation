{
 "cells": [
  {
   "cell_type": "markdown",
   "metadata": {},
   "source": [
    "# Asset allocation - test python notebook"
   ]
  },
  {
   "cell_type": "code",
   "execution_count": 3,
   "metadata": {},
   "outputs": [],
   "source": [
    "import pandas as pd\n",
    "import numpy as np\n",
    "import glob"
   ]
  },
  {
   "cell_type": "code",
   "execution_count": 6,
   "metadata": {},
   "outputs": [],
   "source": [
    "# pre processed files\n",
    "preProcessed_path = '/Users/andrei/Documents/asset-allocation-data/processed'\n",
    "import_files = glob.glob(preProcessed_path + \"/*.csv\")\n",
    "\n",
    "# import\n",
    "dfs = {}\n",
    "\n",
    "for file in import_files:\n",
    "    df = pd.read_csv(file)\n",
    "    file_name = file.split('/')[-1].split('.')[0]\n",
    "    dfs[file_name] = df"
   ]
  },
  {
   "cell_type": "code",
   "execution_count": 13,
   "metadata": {},
   "outputs": [
    {
     "data": {
      "text/plain": [
       "['HONG_KONG_LARGE_CAP_2024-02-24',\n",
       " 'ASIA_PACIFIC_LARGE_MID_CAP_2024-02-24',\n",
       " 'EUROPE_LARGE_CAP_2024-02-24',\n",
       " 'USA_SMALL_CAP_2024-02-24',\n",
       " 'EMERGING_MARKETS_LARGE_MID_CAP_2024-02-24',\n",
       " 'USA_LARGE_CAP_2024-02-24']"
      ]
     },
     "execution_count": 13,
     "metadata": {},
     "output_type": "execute_result"
    }
   ],
   "source": [
    "list(dfs.keys())"
   ]
  },
  {
   "cell_type": "code",
   "execution_count": null,
   "metadata": {},
   "outputs": [],
   "source": []
  }
 ],
 "metadata": {
  "kernelspec": {
   "display_name": "Python 3",
   "language": "python",
   "name": "python3"
  },
  "language_info": {
   "codemirror_mode": {
    "name": "ipython",
    "version": 3
   },
   "file_extension": ".py",
   "mimetype": "text/x-python",
   "name": "python",
   "nbconvert_exporter": "python",
   "pygments_lexer": "ipython3",
   "version": "3.9.6"
  }
 },
 "nbformat": 4,
 "nbformat_minor": 2
}
